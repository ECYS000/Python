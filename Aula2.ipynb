{
  "nbformat": 4,
  "nbformat_minor": 0,
  "metadata": {
    "colab": {
      "provenance": [],
      "authorship_tag": "ABX9TyNQT9CDDoxnjhjldEisQH5l",
      "include_colab_link": true
    },
    "kernelspec": {
      "name": "python3",
      "display_name": "Python 3"
    },
    "language_info": {
      "name": "python"
    }
  },
  "cells": [
    {
      "cell_type": "markdown",
      "metadata": {
        "id": "view-in-github",
        "colab_type": "text"
      },
      "source": [
        "<a href=\"https://colab.research.google.com/github/ECYS000/Python/blob/main/Aula2.ipynb\" target=\"_parent\"><img src=\"https://colab.research.google.com/assets/colab-badge.svg\" alt=\"Open In Colab\"/></a>"
      ]
    },
    {
      "cell_type": "code",
      "execution_count": null,
      "metadata": {
        "colab": {
          "base_uri": "https://localhost:8080/"
        },
        "id": "0-HX1ZgrrfJ0",
        "outputId": "947c91e2-d60e-4082-e377-1879ee2a4a17"
      },
      "outputs": [
        {
          "output_type": "stream",
          "name": "stdout",
          "text": [
            "Digite o primeiro numero: 50\n",
            "Digite o segundo numero: 56.4\n",
            "Valor da soma  106.4\n"
          ]
        }
      ],
      "source": [
        "#Correção prof sobre Exercício que passou 14/06 primeiro aula\n",
        "\n",
        "#Exercício 1:\n",
        "\n",
        "#Escreva um programa em Python que solicite ao usuário que digite dois números e\n",
        "#exiba a soma deles.\n",
        "\n",
        "primeiroNumero = float (input(\"Digite o primeiro numero: \"))\n",
        "segundoNumero = float (input(\"Digite o segundo numero: \"))\n",
        "\n",
        "soma = primeiroNumero + segundoNumero\n",
        "print(\"Valor da soma \", soma)"
      ]
    },
    {
      "cell_type": "code",
      "source": [
        "#Exercício 2:\n",
        "\n",
        "#Escreva um programa em Python que solicite ao usuário que digite um número e\n",
        "#exiba se ele é par ou ímpar.\n",
        "\n",
        "num1 = int(input(\"Digite um numero: \"))\n",
        "if (num1%2) == 0:\n",
        "  print(\"Número que vc digitou é par\")\n",
        "else:\n",
        "  print(\"Numero que vc digitou é impar\")"
      ],
      "metadata": {
        "id": "KIja3XSex7dQ"
      },
      "execution_count": null,
      "outputs": []
    },
    {
      "cell_type": "code",
      "source": [
        "#Exercício 3:\n",
        "\n",
        "#Escreva um programa em Python que solicite ao usuário que digite uma temperatura\n",
        "#em graus Celsius e converta-a para Fahrenheit. A fórmula de conversão é:\n",
        "#Fahrenheit = Celsius * 9/5 + 32.\n",
        "\n",
        "celsius = int(input(\"Digite a temperatura em Celsius para converter \"))\n",
        "fahrenheit = (celsius *9/5)+32\n",
        "\n",
        "print(\"%s Celsius é igual Fahrenheit %s\" % (celsius, fahrenheit))"
      ],
      "metadata": {
        "colab": {
          "base_uri": "https://localhost:8080/"
        },
        "id": "SkJKw54m5X9p",
        "outputId": "8bd071f9-2b59-40d3-f1cd-718a15debb91"
      },
      "execution_count": null,
      "outputs": [
        {
          "output_type": "stream",
          "name": "stdout",
          "text": [
            "Digite a temperatura em Celsius para converter50\n",
            "50 Celsius é igual Fahrenheit 122.0\n"
          ]
        }
      ]
    },
    {
      "cell_type": "code",
      "source": [
        "#Exercício 4:\n",
        "\n",
        "#Escreva um programa em Python que solicite ao usuário que digite uma palavra e\n",
        "#exiba quantas letras essa palavra contém.\n",
        "\n",
        "palavra = input(\"digite qualquer um palavra, vamos descobrir quantos letras essa palavra possuir: \")\n",
        "quantidadeLetras = len(palavra)\n",
        "print (f'A palavra que você digitou: {palavra}, possuir {quantidadeLetras} letras ')\n"
      ],
      "metadata": {
        "id": "8NGWCcHO60Be"
      },
      "execution_count": null,
      "outputs": []
    },
    {
      "cell_type": "code",
      "source": [
        "#Exercício 5:\n",
        "\n",
        "#Escreva um programa em Python que exiba os números de 1 a 10 usando um loop.\n",
        "\n",
        "for num in range(1, 11):\n",
        "  print(num)"
      ],
      "metadata": {
        "id": "fggiYNMO60tk"
      },
      "execution_count": null,
      "outputs": []
    }
  ]
}