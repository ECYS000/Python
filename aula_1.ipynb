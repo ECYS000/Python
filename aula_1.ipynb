{
  "nbformat": 4,
  "nbformat_minor": 0,
  "metadata": {
    "colab": {
      "provenance": [],
      "authorship_tag": "ABX9TyPjKifuEcm7dnUMfDDsZI8+",
      "include_colab_link": true
    },
    "kernelspec": {
      "name": "python3",
      "display_name": "Python 3"
    },
    "language_info": {
      "name": "python"
    }
  },
  "cells": [
    {
      "cell_type": "markdown",
      "metadata": {
        "id": "view-in-github",
        "colab_type": "text"
      },
      "source": [
        "<a href=\"https://colab.research.google.com/github/ECYS000/Python/blob/main/aula_1.ipynb\" target=\"_parent\"><img src=\"https://colab.research.google.com/assets/colab-badge.svg\" alt=\"Open In Colab\"/></a>"
      ]
    },
    {
      "cell_type": "code",
      "execution_count": null,
      "metadata": {
        "id": "D345PfKiHvXB",
        "colab": {
          "base_uri": "https://localhost:8080/"
        },
        "outputId": "b52797b6-a637-4f02-c653-bc811075eca5"
      },
      "outputs": [
        {
          "output_type": "stream",
          "name": "stdout",
          "text": [
            "Olá mundo!\n"
          ]
        }
      ],
      "source": [
        "print(\"Olá mundo!\")"
      ]
    },
    {
      "cell_type": "code",
      "source": [
        "nome = \"Everson\"\n",
        "idade = 27\n",
        "nome = input(\"Digite seu nome?: \")\n",
        "idade = int(input(\"Qual seu idade?: \"))\n",
        "if idade >= 18:\n",
        "  print(f'Seu nome é {nome} e voce é maior de idade pois seu idade é {idade}')\n",
        "else:\n",
        "  print(f'Seu nome é {nome} e voce é menor de idade pois seu idade é {idade}')"
      ],
      "metadata": {
        "colab": {
          "base_uri": "https://localhost:8080/"
        },
        "id": "-HuKMkPvK_kK",
        "outputId": "8a2f2f5b-dc06-4007-ae05-b964bbbd7f4c"
      },
      "execution_count": null,
      "outputs": [
        {
          "output_type": "stream",
          "name": "stdout",
          "text": [
            "Digite seu nome?: Everson\n",
            "Qual seu idade?: 27\n",
            "Seu nome é Everson e voce é maior de idade pois seu idade é 27\n"
          ]
        }
      ]
    },
    {
      "cell_type": "code",
      "source": [
        "for i in range(5):\n",
        "  print(i)"
      ],
      "metadata": {
        "colab": {
          "base_uri": "https://localhost:8080/"
        },
        "id": "HYA1rBAPZqNe",
        "outputId": "0940ad48-c0f1-4c7c-b8f0-e89c2d6805f8"
      },
      "execution_count": null,
      "outputs": [
        {
          "output_type": "stream",
          "name": "stdout",
          "text": [
            "0\n",
            "1\n",
            "2\n",
            "3\n",
            "4\n"
          ]
        }
      ]
    },
    {
      "cell_type": "code",
      "source": [
        "def saudacao():\n",
        "  print(\"Tudo bem?\")\n",
        "\n",
        "saudacao()"
      ],
      "metadata": {
        "colab": {
          "base_uri": "https://localhost:8080/"
        },
        "id": "-9uRmuXlZ_mX",
        "outputId": "1f66c0c1-f71a-4038-df24-9693e57cc451"
      },
      "execution_count": null,
      "outputs": [
        {
          "output_type": "stream",
          "name": "stdout",
          "text": [
            "Tudo bem?\n"
          ]
        }
      ]
    }
  ]
}