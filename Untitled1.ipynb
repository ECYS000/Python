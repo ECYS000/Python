{
  "nbformat": 4,
  "nbformat_minor": 0,
  "metadata": {
    "colab": {
      "provenance": [],
      "authorship_tag": "ABX9TyOWnss17jmX7v4KBkrkQ0wu",
      "include_colab_link": true
    },
    "kernelspec": {
      "name": "python3",
      "display_name": "Python 3"
    },
    "language_info": {
      "name": "python"
    }
  },
  "cells": [
    {
      "cell_type": "markdown",
      "metadata": {
        "id": "view-in-github",
        "colab_type": "text"
      },
      "source": [
        "<a href=\"https://colab.research.google.com/github/ECYS000/Python/blob/main/Untitled1.ipynb\" target=\"_parent\"><img src=\"https://colab.research.google.com/assets/colab-badge.svg\" alt=\"Open In Colab\"/></a>"
      ]
    },
    {
      "cell_type": "code",
      "execution_count": 11,
      "metadata": {
        "colab": {
          "base_uri": "https://localhost:8080/",
          "height": 306
        },
        "id": "BoGwMEN0CA55",
        "outputId": "f5f670b3-41bb-41fb-f86c-5e5758b8870a"
      },
      "outputs": [
        {
          "output_type": "stream",
          "name": "stderr",
          "text": [
            "<ipython-input-11-0efe3bb66653>:18: UserWarning: Boolean Series key will be reindexed to match DataFrame index.\n",
            "  dados_filtrados[filtro_qualidade_sono]\n"
          ]
        },
        {
          "output_type": "execute_result",
          "data": {
            "text/plain": [
              "     Person ID  Gender  Age Occupation  Sleep Duration  Quality of Sleep  \\\n",
              "276        277    Male   49     Doctor             8.1                 9   \n",
              "277        278    Male   49     Doctor             8.1                 9   \n",
              "341        342  Female   56     Doctor             8.2                 9   \n",
              "342        343  Female   56     Doctor             8.2                 9   \n",
              "\n",
              "     Physical Activity Level  Stress Level   BMI Category Blood Pressure  \\\n",
              "276                       85             3          Obese         139/91   \n",
              "277                       85             3          Obese         139/91   \n",
              "341                       90             3  Normal Weight         118/75   \n",
              "342                       90             3  Normal Weight         118/75   \n",
              "\n",
              "     Heart Rate  Daily Steps Sleep Disorder  \n",
              "276          86         3700    Sleep Apnea  \n",
              "277          86         3700    Sleep Apnea  \n",
              "341          65        10000           None  \n",
              "342          65        10000           None  "
            ],
            "text/html": [
              "\n",
              "  <div id=\"df-766bc4fb-1136-4218-9545-ae49f1a8af3c\">\n",
              "    <div class=\"colab-df-container\">\n",
              "      <div>\n",
              "<style scoped>\n",
              "    .dataframe tbody tr th:only-of-type {\n",
              "        vertical-align: middle;\n",
              "    }\n",
              "\n",
              "    .dataframe tbody tr th {\n",
              "        vertical-align: top;\n",
              "    }\n",
              "\n",
              "    .dataframe thead th {\n",
              "        text-align: right;\n",
              "    }\n",
              "</style>\n",
              "<table border=\"1\" class=\"dataframe\">\n",
              "  <thead>\n",
              "    <tr style=\"text-align: right;\">\n",
              "      <th></th>\n",
              "      <th>Person ID</th>\n",
              "      <th>Gender</th>\n",
              "      <th>Age</th>\n",
              "      <th>Occupation</th>\n",
              "      <th>Sleep Duration</th>\n",
              "      <th>Quality of Sleep</th>\n",
              "      <th>Physical Activity Level</th>\n",
              "      <th>Stress Level</th>\n",
              "      <th>BMI Category</th>\n",
              "      <th>Blood Pressure</th>\n",
              "      <th>Heart Rate</th>\n",
              "      <th>Daily Steps</th>\n",
              "      <th>Sleep Disorder</th>\n",
              "    </tr>\n",
              "  </thead>\n",
              "  <tbody>\n",
              "    <tr>\n",
              "      <th>276</th>\n",
              "      <td>277</td>\n",
              "      <td>Male</td>\n",
              "      <td>49</td>\n",
              "      <td>Doctor</td>\n",
              "      <td>8.1</td>\n",
              "      <td>9</td>\n",
              "      <td>85</td>\n",
              "      <td>3</td>\n",
              "      <td>Obese</td>\n",
              "      <td>139/91</td>\n",
              "      <td>86</td>\n",
              "      <td>3700</td>\n",
              "      <td>Sleep Apnea</td>\n",
              "    </tr>\n",
              "    <tr>\n",
              "      <th>277</th>\n",
              "      <td>278</td>\n",
              "      <td>Male</td>\n",
              "      <td>49</td>\n",
              "      <td>Doctor</td>\n",
              "      <td>8.1</td>\n",
              "      <td>9</td>\n",
              "      <td>85</td>\n",
              "      <td>3</td>\n",
              "      <td>Obese</td>\n",
              "      <td>139/91</td>\n",
              "      <td>86</td>\n",
              "      <td>3700</td>\n",
              "      <td>Sleep Apnea</td>\n",
              "    </tr>\n",
              "    <tr>\n",
              "      <th>341</th>\n",
              "      <td>342</td>\n",
              "      <td>Female</td>\n",
              "      <td>56</td>\n",
              "      <td>Doctor</td>\n",
              "      <td>8.2</td>\n",
              "      <td>9</td>\n",
              "      <td>90</td>\n",
              "      <td>3</td>\n",
              "      <td>Normal Weight</td>\n",
              "      <td>118/75</td>\n",
              "      <td>65</td>\n",
              "      <td>10000</td>\n",
              "      <td>None</td>\n",
              "    </tr>\n",
              "    <tr>\n",
              "      <th>342</th>\n",
              "      <td>343</td>\n",
              "      <td>Female</td>\n",
              "      <td>56</td>\n",
              "      <td>Doctor</td>\n",
              "      <td>8.2</td>\n",
              "      <td>9</td>\n",
              "      <td>90</td>\n",
              "      <td>3</td>\n",
              "      <td>Normal Weight</td>\n",
              "      <td>118/75</td>\n",
              "      <td>65</td>\n",
              "      <td>10000</td>\n",
              "      <td>None</td>\n",
              "    </tr>\n",
              "  </tbody>\n",
              "</table>\n",
              "</div>\n",
              "      <button class=\"colab-df-convert\" onclick=\"convertToInteractive('df-766bc4fb-1136-4218-9545-ae49f1a8af3c')\"\n",
              "              title=\"Convert this dataframe to an interactive table.\"\n",
              "              style=\"display:none;\">\n",
              "        \n",
              "  <svg xmlns=\"http://www.w3.org/2000/svg\" height=\"24px\"viewBox=\"0 0 24 24\"\n",
              "       width=\"24px\">\n",
              "    <path d=\"M0 0h24v24H0V0z\" fill=\"none\"/>\n",
              "    <path d=\"M18.56 5.44l.94 2.06.94-2.06 2.06-.94-2.06-.94-.94-2.06-.94 2.06-2.06.94zm-11 1L8.5 8.5l.94-2.06 2.06-.94-2.06-.94L8.5 2.5l-.94 2.06-2.06.94zm10 10l.94 2.06.94-2.06 2.06-.94-2.06-.94-.94-2.06-.94 2.06-2.06.94z\"/><path d=\"M17.41 7.96l-1.37-1.37c-.4-.4-.92-.59-1.43-.59-.52 0-1.04.2-1.43.59L10.3 9.45l-7.72 7.72c-.78.78-.78 2.05 0 2.83L4 21.41c.39.39.9.59 1.41.59.51 0 1.02-.2 1.41-.59l7.78-7.78 2.81-2.81c.8-.78.8-2.07 0-2.86zM5.41 20L4 18.59l7.72-7.72 1.47 1.35L5.41 20z\"/>\n",
              "  </svg>\n",
              "      </button>\n",
              "      \n",
              "  <style>\n",
              "    .colab-df-container {\n",
              "      display:flex;\n",
              "      flex-wrap:wrap;\n",
              "      gap: 12px;\n",
              "    }\n",
              "\n",
              "    .colab-df-convert {\n",
              "      background-color: #E8F0FE;\n",
              "      border: none;\n",
              "      border-radius: 50%;\n",
              "      cursor: pointer;\n",
              "      display: none;\n",
              "      fill: #1967D2;\n",
              "      height: 32px;\n",
              "      padding: 0 0 0 0;\n",
              "      width: 32px;\n",
              "    }\n",
              "\n",
              "    .colab-df-convert:hover {\n",
              "      background-color: #E2EBFA;\n",
              "      box-shadow: 0px 1px 2px rgba(60, 64, 67, 0.3), 0px 1px 3px 1px rgba(60, 64, 67, 0.15);\n",
              "      fill: #174EA6;\n",
              "    }\n",
              "\n",
              "    [theme=dark] .colab-df-convert {\n",
              "      background-color: #3B4455;\n",
              "      fill: #D2E3FC;\n",
              "    }\n",
              "\n",
              "    [theme=dark] .colab-df-convert:hover {\n",
              "      background-color: #434B5C;\n",
              "      box-shadow: 0px 1px 3px 1px rgba(0, 0, 0, 0.15);\n",
              "      filter: drop-shadow(0px 1px 2px rgba(0, 0, 0, 0.3));\n",
              "      fill: #FFFFFF;\n",
              "    }\n",
              "  </style>\n",
              "\n",
              "      <script>\n",
              "        const buttonEl =\n",
              "          document.querySelector('#df-766bc4fb-1136-4218-9545-ae49f1a8af3c button.colab-df-convert');\n",
              "        buttonEl.style.display =\n",
              "          google.colab.kernel.accessAllowed ? 'block' : 'none';\n",
              "\n",
              "        async function convertToInteractive(key) {\n",
              "          const element = document.querySelector('#df-766bc4fb-1136-4218-9545-ae49f1a8af3c');\n",
              "          const dataTable =\n",
              "            await google.colab.kernel.invokeFunction('convertToInteractive',\n",
              "                                                     [key], {});\n",
              "          if (!dataTable) return;\n",
              "\n",
              "          const docLinkHtml = 'Like what you see? Visit the ' +\n",
              "            '<a target=\"_blank\" href=https://colab.research.google.com/notebooks/data_table.ipynb>data table notebook</a>'\n",
              "            + ' to learn more about interactive tables.';\n",
              "          element.innerHTML = '';\n",
              "          dataTable['output_type'] = 'display_data';\n",
              "          await google.colab.output.renderOutput(dataTable, element);\n",
              "          const docLink = document.createElement('div');\n",
              "          docLink.innerHTML = docLinkHtml;\n",
              "          element.appendChild(docLink);\n",
              "        }\n",
              "      </script>\n",
              "    </div>\n",
              "  </div>\n",
              "  "
            ]
          },
          "metadata": {},
          "execution_count": 11
        }
      ],
      "source": [
        "import pandas as pd\n",
        "\n",
        "url_arquivo = 'saude.csv'\n",
        "\n",
        "dados = pd.read_csv(url_arquivo)\n",
        "\n",
        "pd.DataFrame(dados)\n",
        "\n",
        "# Mostra a primeira linha\n",
        "# dados.head(0)\n",
        "\n",
        "# Mostra filtro occuation somente Software por exemplo\n",
        "filtro_ocupacao = dados['Occupation'] == 'Doctor'\n",
        "# dados[filtro_ocupacao]\n",
        "dados_filtrados = dados[filtro_ocupacao]\n",
        "\n",
        "filtro_qualidade_sono = dados['Quality of Sleep'] > 7\n",
        "dados_filtrados[filtro_qualidade_sono]\n",
        "\n",
        "\n",
        "\n"
      ]
    },
    {
      "cell_type": "code",
      "source": [
        "import pandas as pd\n",
        "\n",
        "url_arquivo = 'saude.csv'\n",
        "tabela = pd.read_csv(url_arquivo)\n",
        "\n",
        "filtro_idade = tabela['Age']<27\n",
        "tabela = tabela[filtro_idade]\n",
        "\n",
        "pd.DataFrame(tabela)"
      ],
      "metadata": {
        "id": "hzR9t-cBHhKR"
      },
      "execution_count": 2,
      "outputs": []
    },
    {
      "cell_type": "code",
      "source": [
        "#Revisão sobre string e lista\n",
        "\n",
        "frase = 'Aluno nota 10'\n",
        "\n",
        "# Como pegar a palavra Aluno?\n",
        "palavra = frase[5:13]\n",
        "\n",
        "print(palavra)"
      ],
      "metadata": {
        "colab": {
          "base_uri": "https://localhost:8080/"
        },
        "id": "TTzRoEh_ZL48",
        "outputId": "aa6dc9b5-af01-4cb2-a319-9acd9961c209"
      },
      "execution_count": 14,
      "outputs": [
        {
          "output_type": "stream",
          "name": "stdout",
          "text": [
            " nota\n"
          ]
        }
      ]
    },
    {
      "cell_type": "code",
      "source": [
        "# Podemos usar esse mesmos conceito com lista\n",
        "\n",
        "lista_numero = [1, 20, 50, 3]\n",
        "\n",
        "# Como pega o ultimo valor da lista?\n",
        "\n",
        "lista_numero[-2:]"
      ],
      "metadata": {
        "colab": {
          "base_uri": "https://localhost:8080/"
        },
        "id": "uXOrkEUBaOwr",
        "outputId": "6f7b4398-7488-4bf4-b517-40c1d8c9985d"
      },
      "execution_count": 19,
      "outputs": [
        {
          "output_type": "execute_result",
          "data": {
            "text/plain": [
              "[50, 3]"
            ]
          },
          "metadata": {},
          "execution_count": 19
        }
      ]
    },
    {
      "cell_type": "code",
      "source": [
        "# como adicionar valores no meio da minha lista\n",
        "\n",
        "lista_numero = [1,2,5,6,7]\n",
        "\n",
        "lista_numero.insert(2,3)\n",
        "lista_numero.insert(3,4)\n",
        "\n",
        "lista_numero\n",
        "\n"
      ],
      "metadata": {
        "colab": {
          "base_uri": "https://localhost:8080/"
        },
        "id": "uhPooWXLcDuI",
        "outputId": "a0c9a8bb-c4da-419f-cec4-578fd556e311"
      },
      "execution_count": 23,
      "outputs": [
        {
          "output_type": "execute_result",
          "data": {
            "text/plain": [
              "[1, 2, 3, 4, 5, 6, 7]"
            ]
          },
          "metadata": {},
          "execution_count": 23
        }
      ]
    },
    {
      "cell_type": "code",
      "source": [
        "# Como substituir um valor na lista\n",
        "\n",
        "lista_alfabeto = ['a', 'b', 'C', 'D', 'e']\n",
        "\n",
        "lista_alfabeto[2:4] = ['c', 'd']\n",
        "lista_alfabeto"
      ],
      "metadata": {
        "colab": {
          "base_uri": "https://localhost:8080/"
        },
        "id": "u02fwkvydD6A",
        "outputId": "085c9c5d-ac79-4cdc-9d01-3906b8e15be9"
      },
      "execution_count": 34,
      "outputs": [
        {
          "output_type": "execute_result",
          "data": {
            "text/plain": [
              "['a', 'b', 'c', 'd', 'e']"
            ]
          },
          "metadata": {},
          "execution_count": 34
        }
      ]
    },
    {
      "cell_type": "code",
      "source": [
        "# Somar lista de numeros\n",
        "\n",
        "lista_numero = [1,2,3,4,5]\n",
        "\n",
        "sum(lista_numero[:2])"
      ],
      "metadata": {
        "colab": {
          "base_uri": "https://localhost:8080/"
        },
        "id": "bB8QqSgihG0J",
        "outputId": "7430eed9-42fa-4d81-af98-4d5309d47de5"
      },
      "execution_count": 35,
      "outputs": [
        {
          "output_type": "execute_result",
          "data": {
            "text/plain": [
              "15"
            ]
          },
          "metadata": {},
          "execution_count": 35
        }
      ]
    },
    {
      "cell_type": "code",
      "source": [
        "# Quero saber se o valor 5 esta dentro da lista\n",
        "\n",
        "lista_numero = [1,2,3,4,5]\n",
        "\n",
        "if 5 in lista_numero:\n",
        "  print('Numero 5 esta na lista')\n",
        "else:\n",
        "  print('Não esta lista')"
      ],
      "metadata": {
        "id": "zjmXks03jwUB"
      },
      "execution_count": null,
      "outputs": []
    },
    {
      "cell_type": "code",
      "source": [
        "# Como usar o For com duas listas juntas?\n",
        "\n",
        "lista_alunos = ['Everson','João','Andre','Kauan']\n",
        "lista_notas = [10, 11, 10.5, 11.5]\n",
        "\n",
        "for aluno, nota in zip(lista_alunos, lista_notas):\n",
        "  print('Aluno: {0} - nota: {1}'.format(aluno, nota))"
      ],
      "metadata": {
        "colab": {
          "base_uri": "https://localhost:8080/"
        },
        "id": "mM6CUzQrk7y_",
        "outputId": "8af3ba80-6517-44f5-f840-b7ad530013ca"
      },
      "execution_count": 37,
      "outputs": [
        {
          "output_type": "stream",
          "name": "stdout",
          "text": [
            "Aluno: Everson - nota: 10\n",
            "Aluno: João - nota: 11\n",
            "Aluno: Andre - nota: 10.5\n",
            "Aluno: Kauan - nota: 11.5\n"
          ]
        }
      ]
    }
  ]
}