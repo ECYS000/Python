{
  "nbformat": 4,
  "nbformat_minor": 0,
  "metadata": {
    "colab": {
      "provenance": [],
      "authorship_tag": "ABX9TyOe9kdysKaOASF8MSPNptNv",
      "include_colab_link": true
    },
    "kernelspec": {
      "name": "python3",
      "display_name": "Python 3"
    },
    "language_info": {
      "name": "python"
    }
  },
  "cells": [
    {
      "cell_type": "markdown",
      "metadata": {
        "id": "view-in-github",
        "colab_type": "text"
      },
      "source": [
        "<a href=\"https://colab.research.google.com/github/ECYS000/Python/blob/main/Aula3.ipynb\" target=\"_parent\"><img src=\"https://colab.research.google.com/assets/colab-badge.svg\" alt=\"Open In Colab\"/></a>"
      ]
    },
    {
      "cell_type": "code",
      "execution_count": 42,
      "metadata": {
        "colab": {
          "base_uri": "https://localhost:8080/"
        },
        "id": "fXMDaprX_bXe",
        "outputId": "d665175c-189a-496e-b624-30709b2529d5"
      },
      "outputs": [
        {
          "output_type": "stream",
          "name": "stdout",
          "text": [
            "Edison\n"
          ]
        }
      ],
      "source": [
        "# Matriz\n",
        "\n",
        "lista_alunos_linha_0 = [\"Lucas\", \"Brenda\", \"João\"],\n",
        "lista_alunos_linha_1 = [\"Everson\", \"Madara\", \"Ana Carolina\"],\n",
        "lista_alunos_linha_3 = [\"Douglas\", \"Luisa\", \"Edison\"]\n",
        "\n",
        "matriz = [ lista_alunos_linha_0, lista_alunos_linha_1, lista_alunos_linha_3 ]\n",
        "\n",
        "# Quero mostrar Edison\n",
        "print(matriz[2][2])"
      ]
    },
    {
      "cell_type": "code",
      "source": [
        "# Quero Somar todas as linhas da minha matriz\n",
        "\n",
        "matriz = [\n",
        "    [0, 10, 20],\n",
        "    [40, 50, 60],\n",
        "    [70, 80, 90]\n",
        "]\n",
        "\n",
        "for linha in matriz:\n",
        "  soma_linha = sum(linha)\n",
        "  print(soma_linha)\n",
        "\n",
        ""
      ],
      "metadata": {
        "colab": {
          "base_uri": "https://localhost:8080/"
        },
        "id": "YV4Yu6QpKf91",
        "outputId": "c80d9ebc-5373-44f8-a422-4dc76d8376cd"
      },
      "execution_count": 43,
      "outputs": [
        {
          "output_type": "stream",
          "name": "stdout",
          "text": [
            "30\n",
            "150\n",
            "240\n"
          ]
        }
      ]
    },
    {
      "cell_type": "code",
      "source": [
        "# Somar todos matriz\n",
        "\n",
        "matriz = [\n",
        "[0, 10, 20],\n",
        "[30, 40, 50],\n",
        "[60, 70, 80]\n",
        "\n",
        "]\n",
        "\n",
        "soma_total = sum(sum(linha) for linha in matriz)\n",
        "\n",
        "print(\"resposta total\", soma_total)"
      ],
      "metadata": {
        "colab": {
          "base_uri": "https://localhost:8080/"
        },
        "id": "wteO3VgdNrFJ",
        "outputId": "bc0f0d12-f8af-43cc-a4b7-b5888d48bd8f"
      },
      "execution_count": 44,
      "outputs": [
        {
          "output_type": "stream",
          "name": "stdout",
          "text": [
            "resposta total 360\n"
          ]
        }
      ]
    },
    {
      "cell_type": "code",
      "source": [
        "# Quero somar todos o numero par na matriz\n",
        "\n",
        "matriz = [\n",
        "    [3, 76, 108],\n",
        "    [1, 5, 30],\n",
        "    [44, 30, 25],\n",
        "    [33, 77, 80, 2, 8],\n",
        "    [500, 60, 9, 4, 100]\n",
        "]\n",
        "\n",
        "soma_numero_par = 0\n",
        "\n",
        "for linha in matriz:\n",
        "  for coluna in linha:\n",
        "    if coluna % 2 == 0: #Valido se o número é par\n",
        "      soma_numero_par = coluna + soma_numero_par\n",
        "\n",
        "\n",
        "print(\"Total numeros pares: \", soma_numero_par)\n"
      ],
      "metadata": {
        "colab": {
          "base_uri": "https://localhost:8080/"
        },
        "id": "8o_dLsnfOAyu",
        "outputId": "7385157d-b863-4877-f4d6-6627d267aa9f"
      },
      "execution_count": 45,
      "outputs": [
        {
          "output_type": "stream",
          "name": "stdout",
          "text": [
            "Total numeros pares:  1042\n"
          ]
        }
      ]
    },
    {
      "cell_type": "code",
      "source": [
        "# Dicionário em Python\n",
        "\n",
        "dados_alunos = {\n",
        "    'Nome': ['Luisa','Everson', 'Edison', 'Egla'],\n",
        "    'Idade':[120, 20, 30, 25],\n",
        "    'UF': ['RS', 'RJ', 'SP', 'SC']\n",
        "}\n",
        "\n",
        "print(dados_alunos)"
      ],
      "metadata": {
        "colab": {
          "base_uri": "https://localhost:8080/"
        },
        "id": "fvCBRR9RYdGq",
        "outputId": "3575b944-55f6-4fca-8c89-861ab4f73a17"
      },
      "execution_count": 46,
      "outputs": [
        {
          "output_type": "stream",
          "name": "stdout",
          "text": [
            "{'Nome': ['Luisa', 'Everson', 'Edison', 'Egla'], 'Idade': [120, 20, 30, 25], 'UF': ['RS', 'RJ', 'SP', 'SC']}\n"
          ]
        }
      ]
    },
    {
      "cell_type": "code",
      "source": [
        "# Quero retornar o nome Everson\n",
        "\n",
        "print(dados_alunos['Nome'][1])"
      ],
      "metadata": {
        "colab": {
          "base_uri": "https://localhost:8080/"
        },
        "id": "YFTjYaZdZ1Ah",
        "outputId": "e5e529dd-9324-4412-be62-f0d313f55ba5"
      },
      "execution_count": 47,
      "outputs": [
        {
          "output_type": "stream",
          "name": "stdout",
          "text": [
            "Everson\n"
          ]
        }
      ]
    },
    {
      "cell_type": "code",
      "source": [
        "import pandas as pd\n",
        "\n",
        "tabela = pd.DataFrame(dados_alunos)\n",
        "tabela"
      ],
      "metadata": {
        "colab": {
          "base_uri": "https://localhost:8080/",
          "height": 175
        },
        "id": "rkSkffPCa9pg",
        "outputId": "57285fcd-2eb4-4269-8ddd-d23e0dc91ef2"
      },
      "execution_count": 54,
      "outputs": [
        {
          "output_type": "execute_result",
          "data": {
            "text/plain": [
              "      Nome  Idade  UF\n",
              "0    Luisa    120  RS\n",
              "1  Everson     20  RJ\n",
              "2   Edison     30  SP\n",
              "3     Egla     25  SC"
            ],
            "text/html": [
              "\n",
              "  <div id=\"df-860632af-6c64-438f-a7d6-f11272a316e3\">\n",
              "    <div class=\"colab-df-container\">\n",
              "      <div>\n",
              "<style scoped>\n",
              "    .dataframe tbody tr th:only-of-type {\n",
              "        vertical-align: middle;\n",
              "    }\n",
              "\n",
              "    .dataframe tbody tr th {\n",
              "        vertical-align: top;\n",
              "    }\n",
              "\n",
              "    .dataframe thead th {\n",
              "        text-align: right;\n",
              "    }\n",
              "</style>\n",
              "<table border=\"1\" class=\"dataframe\">\n",
              "  <thead>\n",
              "    <tr style=\"text-align: right;\">\n",
              "      <th></th>\n",
              "      <th>Nome</th>\n",
              "      <th>Idade</th>\n",
              "      <th>UF</th>\n",
              "    </tr>\n",
              "  </thead>\n",
              "  <tbody>\n",
              "    <tr>\n",
              "      <th>0</th>\n",
              "      <td>Luisa</td>\n",
              "      <td>120</td>\n",
              "      <td>RS</td>\n",
              "    </tr>\n",
              "    <tr>\n",
              "      <th>1</th>\n",
              "      <td>Everson</td>\n",
              "      <td>20</td>\n",
              "      <td>RJ</td>\n",
              "    </tr>\n",
              "    <tr>\n",
              "      <th>2</th>\n",
              "      <td>Edison</td>\n",
              "      <td>30</td>\n",
              "      <td>SP</td>\n",
              "    </tr>\n",
              "    <tr>\n",
              "      <th>3</th>\n",
              "      <td>Egla</td>\n",
              "      <td>25</td>\n",
              "      <td>SC</td>\n",
              "    </tr>\n",
              "  </tbody>\n",
              "</table>\n",
              "</div>\n",
              "      <button class=\"colab-df-convert\" onclick=\"convertToInteractive('df-860632af-6c64-438f-a7d6-f11272a316e3')\"\n",
              "              title=\"Convert this dataframe to an interactive table.\"\n",
              "              style=\"display:none;\">\n",
              "        \n",
              "  <svg xmlns=\"http://www.w3.org/2000/svg\" height=\"24px\"viewBox=\"0 0 24 24\"\n",
              "       width=\"24px\">\n",
              "    <path d=\"M0 0h24v24H0V0z\" fill=\"none\"/>\n",
              "    <path d=\"M18.56 5.44l.94 2.06.94-2.06 2.06-.94-2.06-.94-.94-2.06-.94 2.06-2.06.94zm-11 1L8.5 8.5l.94-2.06 2.06-.94-2.06-.94L8.5 2.5l-.94 2.06-2.06.94zm10 10l.94 2.06.94-2.06 2.06-.94-2.06-.94-.94-2.06-.94 2.06-2.06.94z\"/><path d=\"M17.41 7.96l-1.37-1.37c-.4-.4-.92-.59-1.43-.59-.52 0-1.04.2-1.43.59L10.3 9.45l-7.72 7.72c-.78.78-.78 2.05 0 2.83L4 21.41c.39.39.9.59 1.41.59.51 0 1.02-.2 1.41-.59l7.78-7.78 2.81-2.81c.8-.78.8-2.07 0-2.86zM5.41 20L4 18.59l7.72-7.72 1.47 1.35L5.41 20z\"/>\n",
              "  </svg>\n",
              "      </button>\n",
              "      \n",
              "  <style>\n",
              "    .colab-df-container {\n",
              "      display:flex;\n",
              "      flex-wrap:wrap;\n",
              "      gap: 12px;\n",
              "    }\n",
              "\n",
              "    .colab-df-convert {\n",
              "      background-color: #E8F0FE;\n",
              "      border: none;\n",
              "      border-radius: 50%;\n",
              "      cursor: pointer;\n",
              "      display: none;\n",
              "      fill: #1967D2;\n",
              "      height: 32px;\n",
              "      padding: 0 0 0 0;\n",
              "      width: 32px;\n",
              "    }\n",
              "\n",
              "    .colab-df-convert:hover {\n",
              "      background-color: #E2EBFA;\n",
              "      box-shadow: 0px 1px 2px rgba(60, 64, 67, 0.3), 0px 1px 3px 1px rgba(60, 64, 67, 0.15);\n",
              "      fill: #174EA6;\n",
              "    }\n",
              "\n",
              "    [theme=dark] .colab-df-convert {\n",
              "      background-color: #3B4455;\n",
              "      fill: #D2E3FC;\n",
              "    }\n",
              "\n",
              "    [theme=dark] .colab-df-convert:hover {\n",
              "      background-color: #434B5C;\n",
              "      box-shadow: 0px 1px 3px 1px rgba(0, 0, 0, 0.15);\n",
              "      filter: drop-shadow(0px 1px 2px rgba(0, 0, 0, 0.3));\n",
              "      fill: #FFFFFF;\n",
              "    }\n",
              "  </style>\n",
              "\n",
              "      <script>\n",
              "        const buttonEl =\n",
              "          document.querySelector('#df-860632af-6c64-438f-a7d6-f11272a316e3 button.colab-df-convert');\n",
              "        buttonEl.style.display =\n",
              "          google.colab.kernel.accessAllowed ? 'block' : 'none';\n",
              "\n",
              "        async function convertToInteractive(key) {\n",
              "          const element = document.querySelector('#df-860632af-6c64-438f-a7d6-f11272a316e3');\n",
              "          const dataTable =\n",
              "            await google.colab.kernel.invokeFunction('convertToInteractive',\n",
              "                                                     [key], {});\n",
              "          if (!dataTable) return;\n",
              "\n",
              "          const docLinkHtml = 'Like what you see? Visit the ' +\n",
              "            '<a target=\"_blank\" href=https://colab.research.google.com/notebooks/data_table.ipynb>data table notebook</a>'\n",
              "            + ' to learn more about interactive tables.';\n",
              "          element.innerHTML = '';\n",
              "          dataTable['output_type'] = 'display_data';\n",
              "          await google.colab.output.renderOutput(dataTable, element);\n",
              "          const docLink = document.createElement('div');\n",
              "          docLink.innerHTML = docLinkHtml;\n",
              "          element.appendChild(docLink);\n",
              "        }\n",
              "      </script>\n",
              "    </div>\n",
              "  </div>\n",
              "  "
            ]
          },
          "metadata": {},
          "execution_count": 54
        }
      ]
    },
    {
      "cell_type": "code",
      "source": [
        "import matplotlib.pyplot as plt\n",
        "\n",
        "plt.bar(tabela['Nome'], tabela['Idade'])\n",
        "\n",
        "plt.xlabel('Nome')\n",
        "plt.ylabel('Idade')\n",
        "plt.title('Tabela alunos idade')\n",
        "\n",
        "plt.show()"
      ],
      "metadata": {
        "colab": {
          "base_uri": "https://localhost:8080/",
          "height": 472
        },
        "id": "jGFpJGbFfWxK",
        "outputId": "51b27a5a-5048-4e64-b744-2f9a4bee97b9"
      },
      "execution_count": 53,
      "outputs": [
        {
          "output_type": "display_data",
          "data": {
            "text/plain": [
              "<Figure size 640x480 with 1 Axes>"
            ],
            "image/png": "[encoded data removed]"
          },
          "metadata": {}
        }
      ]
    }
  ]
}